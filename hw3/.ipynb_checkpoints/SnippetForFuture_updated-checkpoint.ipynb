{
 "cells": [
  {
   "cell_type": "code",
   "execution_count": 1,
   "metadata": {},
   "outputs": [],
   "source": [
    "import numpy as np\n",
    "from matplotlib import cm, pyplot as plt\n",
    "np.random.seed(111)\n",
    "import warnings\n",
    "warnings.filterwarnings('ignore')\n",
    "from hmmlearn.hmm import GaussianHMM\n",
    "import pickle\n",
    "from sklearn.utils import check_random_state"
   ]
  },
  {
   "cell_type": "code",
   "execution_count": 2,
   "metadata": {},
   "outputs": [],
   "source": [
    "# Put your code here before the trend-prediction snippet in the following cells."
   ]
  },
  {
   "cell_type": "code",
   "execution_count": null,
   "metadata": {},
   "outputs": [],
   "source": [
    "L=15 # We would like to predict the following 15 days' trend\n",
    "Niter = 10 # A hyper parameter of generating samples\n",
    "\n",
    "warnings.filterwarnings('ignore')\n",
    "binom0 = np.column_stack([np.diff(quotes.Close), np.array(quotes.Volume)[1:]/3e7])\n",
    "binom2 = np.copy(binom1)\n",
    "\n",
    "startprob_cdf = np.cumsum(ghmm2.startprob_)\n",
    "transmat_cdf = np.cumsum(ghmm2.transmat_, axis=1)\n",
    "random_state = ghmm2.random_state\n",
    "\n",
    "rs = check_random_state(None)\n",
    "\n",
    "for l in range(L):\n",
    "    binom2 = np.append(binom2,[[0,0]],axis=0) # Add a pair of empty (d,v)\n",
    "    true_binom = np.copy(binom0[:len(binom1)+l])\n",
    "    state_seq = ghmm2.predict(true_binom)\n",
    "    previous_state = state_seq[-1]\n",
    "    \n",
    "    maxLL = -1e10\n",
    "    for n in range(Niter):\n",
    "        currstate = (transmat_cdf[previous_state]> rs.rand() ).argmax() # Go through transmat to get a new state\n",
    "       \n",
    "        new_sample = ghmm2._generate_sample_from_state(currstate) # generate from the new state\n",
    "        tmp_binom = np.copy(true_binom)\n",
    "        tmp_binom = np.append(tmp_binom,[new_sample],axis=0) # Append the new_sample for score\n",
    "        tmp_maxLL = ghmm2.score(tmp_binom) # \n",
    "        if tmp_maxLL > maxLL :\n",
    "\n",
    "                maxLL = tmp_maxLL\n",
    "                binom2[-1][0] = new_sample[0]\n",
    "                binom2[-1][1] = new_sample[1]"
   ]
  },
  {
   "cell_type": "code",
   "execution_count": null,
   "metadata": {},
   "outputs": [],
   "source": [
    "# The curve after day 100 is the predicted trend.\n",
    "\n",
    "date2 = dates = np.arange(len(binom2))\n",
    "print len(date2)\n",
    "plt.figure()\n",
    "plt.plot(date2, quotes.Close[0]+np.cumsum(binom2[:,0]))\n",
    "plt.plot(date2, quotes.Close[:len(binom1)+L])#[100:100+25])\n",
    "plt.grid(True)\n",
    "plt.legend(('predicted', 'ground truth'))\n",
    "plt.title(\"Closing Prices\")"
   ]
  },
  {
   "cell_type": "code",
   "execution_count": null,
   "metadata": {},
   "outputs": [],
   "source": [
    "# The curve after day 100 is the predicted trend.\n",
    "\n",
    "plt.figure()\n",
    "plt.plot(date2, binom2[:,1]*3e7)\n",
    "plt.plot(date2, quotes.Volume[0:len(binom1)+L])#[100:100+25])\n",
    "plt.grid(True)\n",
    "plt.legend(('predicted', 'ground truth'))\n",
    "plt.title(\"Volume\")"
   ]
  }
 ],
 "metadata": {
  "kernelspec": {
   "display_name": "Python 2",
   "language": "python",
   "name": "python2"
  },
  "language_info": {
   "codemirror_mode": {
    "name": "ipython",
    "version": 2
   },
   "file_extension": ".py",
   "mimetype": "text/x-python",
   "name": "python",
   "nbconvert_exporter": "python",
   "pygments_lexer": "ipython2",
   "version": "2.7.13"
  }
 },
 "nbformat": 4,
 "nbformat_minor": 2
}
