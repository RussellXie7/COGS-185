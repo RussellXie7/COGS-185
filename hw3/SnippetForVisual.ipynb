{
 "cells": [
  {
   "cell_type": "code",
   "execution_count": null,
   "metadata": {},
   "outputs": [],
   "source": [
    "import numpy as np\n",
    "from matplotlib import cm, pyplot as plt\n",
    "np.random.seed(111)\n",
    "import warnings\n",
    "warnings.filterwarnings('ignore')\n",
    "from hmmlearn.hmm import GaussianHMM\n",
    "import pickle"
   ]
  },
  {
   "cell_type": "code",
   "execution_count": null,
   "metadata": {},
   "outputs": [],
   "source": [
    "# Put your code here before the visualization snippet in the next cell."
   ]
  },
  {
   "cell_type": "code",
   "execution_count": null,
   "metadata": {},
   "outputs": [],
   "source": [
    "close_p = quotes.Close[1:101]\n",
    "dates = np.arange(len(close_p))\n",
    "\n",
    "fig, axs = plt.subplots(ghmm2.n_components+1, sharex=True, sharey=True)\n",
    "colours = cm.rainbow(np.linspace(0, 1, ghmm2.n_components))\n",
    "axs[0].plot(dates, close_p)\n",
    "axs[0].set_title(\"Closing prices from day 1 to day 100.\")\n",
    "axs[0].grid(True)\n",
    "for i  in range(1,ghmm2.n_components+1):\n",
    "    mask = states == i-1\n",
    "    axs[i].plot(dates[mask], close_p[mask], \".-\", c=colours[i-1])\n",
    "    axs[i].set_title(\"#{0} hidden state\".format(i-1))\n",
    "\n",
    "    axs[i].grid(True)\n",
    "\n",
    "plt.show()"
   ]
  }
 ],
 "metadata": {
  "kernelspec": {
   "display_name": "Python 2",
   "language": "python",
   "name": "python2"
  },
  "language_info": {
   "codemirror_mode": {
    "name": "ipython",
    "version": 2
   },
   "file_extension": ".py",
   "mimetype": "text/x-python",
   "name": "python",
   "nbconvert_exporter": "python",
   "pygments_lexer": "ipython2",
   "version": "2.7.13"
  }
 },
 "nbformat": 4,
 "nbformat_minor": 2
}
