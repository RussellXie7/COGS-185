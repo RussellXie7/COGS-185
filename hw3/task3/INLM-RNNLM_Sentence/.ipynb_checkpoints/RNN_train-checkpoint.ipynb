{
 "cells": [
  {
   "cell_type": "code",
   "execution_count": 1,
   "metadata": {},
   "outputs": [
    {
     "name": "stderr",
     "output_type": "stream",
     "text": [
      "/home/james/anaconda2/lib/python2.7/site-packages/h5py/__init__.py:36: FutureWarning: Conversion of the second argument of issubdtype from `float` to `np.floating` is deprecated. In future, it will be treated as `np.float64 == np.dtype(float).type`.\n",
      "  from ._conv import register_converters as _register_converters\n",
      "Using TensorFlow backend.\n"
     ]
    }
   ],
   "source": [
    "import tensorflow as tf\n",
    "import keras\n",
    "import warnings\n",
    "\n",
    "warnings.filterwarnings('ignore')"
   ]
  },
  {
   "cell_type": "code",
   "execution_count": 2,
   "metadata": {},
   "outputs": [
    {
     "name": "stdout",
     "output_type": "stream",
     "text": [
      "[[22. 28.]\n",
      " [49. 64.]]\n"
     ]
    }
   ],
   "source": [
    "# Creates a graph.\n",
    "a = tf.constant([1.0, 2.0, 3.0, 4.0, 5.0, 6.0], shape=[2, 3], name='a')\n",
    "b = tf.constant([1.0, 2.0, 3.0, 4.0, 5.0, 6.0], shape=[3, 2], name='b')\n",
    "c = tf.matmul(a, b)\n",
    "# Creates a session with log_device_placement set to True.\n",
    "sess = tf.Session(config=tf.ConfigProto(log_device_placement=True))\n",
    "# Runs the op.\n",
    "print(sess.run(c))"
   ]
  },
  {
   "cell_type": "code",
   "execution_count": 3,
   "metadata": {},
   "outputs": [],
   "source": [
    "from __future__ import print_function\n",
    "import tensorflow as tf\n",
    "sess = tf.Session(config=tf.ConfigProto(log_device_placement=True))\n",
    "\n",
    "import argparse\n",
    "import time\n",
    "import os\n",
    "from six.moves import cPickle\n",
    "import sys\n",
    "#sys.path.insert(0, 'INLM-RNNLM_Sentence')\n",
    "\n",
    "from rnn_utils import TextLoader\n",
    "from rnn_model import Model\n",
    "import rnn_train\n",
    "import rnn_sample\n"
   ]
  },
  {
   "cell_type": "code",
   "execution_count": 4,
   "metadata": {},
   "outputs": [],
   "source": [
    "class myARGtr():\n",
    "    def __init__(self):\n",
    "        self.data_dir = 'data/tinyshakespeare'#'data/word'\n",
    "        self.save_dir = 'save'\n",
    "        self.log_dir ='logs'\n",
    "        self.rnn_size = 128\n",
    "        self.num_layers = 2\n",
    "        self.model ='rnn'\n",
    "        self.batch_size = 50\n",
    "        self.seq_length = 50\n",
    "        self.min_length = 3\n",
    "        self.num_epochs = 101\n",
    "        self.save_every = 5\n",
    "        self.grad_clip = 5.\n",
    "        self.learning_rate = 0.002\n",
    "        self.decay_rate = 0.97\n",
    "        self.output_keep_prob = 1.0\n",
    "        self.input_keep_prob = 1.0\n",
    "        self.init_from =None\n",
    "class myARGsa():\n",
    "    def __init__(self):\n",
    "        self.save_dir = 'save'\n",
    "        self.n = 50\n",
    "        self.prime = u' '\n",
    "        self.sample = 1"
   ]
  },
  {
   "cell_type": "code",
   "execution_count": null,
   "metadata": {},
   "outputs": [],
   "source": [
    "args = myARGtr()\n",
    "rnn_train.train(args)"
   ]
  },
  {
   "cell_type": "code",
   "execution_count": null,
   "metadata": {},
   "outputs": [],
   "source": []
  }
 ],
 "metadata": {
  "kernelspec": {
   "display_name": "Python 2",
   "language": "python",
   "name": "python2"
  },
  "language_info": {
   "codemirror_mode": {
    "name": "ipython",
    "version": 2
   },
   "file_extension": ".py",
   "mimetype": "text/x-python",
   "name": "python",
   "nbconvert_exporter": "python",
   "pygments_lexer": "ipython2",
   "version": "2.7.14"
  }
 },
 "nbformat": 4,
 "nbformat_minor": 2
}
